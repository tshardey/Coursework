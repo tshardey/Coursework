{
  "nbformat": 4,
  "nbformat_minor": 0,
  "metadata": {
    "colab": {
      "name": "Celsius_Fahrenheit_model.ipynb",
      "version": "0.3.2",
      "provenance": [],
      "collapsed_sections": []
    },
    "kernelspec": {
      "name": "python3",
      "display_name": "Python 3"
    }
  },
  "cells": [
    {
      "cell_type": "markdown",
      "metadata": {
        "id": "8JWbo_mNVGl5",
        "colab_type": "text"
      },
      "source": [
        "# Training a Model using TensorFlow\n",
        "\n",
        "## Converting Celsius to Fahrenheit"
      ]
    },
    {
      "cell_type": "code",
      "metadata": {
        "id": "3zPflpWsTdsf",
        "colab_type": "code",
        "colab": {}
      },
      "source": [
        "# importing packages\n",
        "import tensorflow as tf\n",
        "import numpy as np\n",
        "\n",
        "tf.logging.set_verbosity(tf.logging.ERROR)"
      ],
      "execution_count": 0,
      "outputs": []
    },
    {
      "cell_type": "markdown",
      "metadata": {
        "id": "Co8QJx-3VrPe",
        "colab_type": "text"
      },
      "source": [
        "## Setting up the training data"
      ]
    },
    {
      "cell_type": "code",
      "metadata": {
        "id": "-zvHShK_VB_M",
        "colab_type": "code",
        "outputId": "90b117d6-d393-4dcf-ae83-47ff30cd5c26",
        "colab": {
          "base_uri": "https://localhost:8080/",
          "height": 136
        }
      },
      "source": [
        "# training data\n",
        "celsius_q    = np.array([-40, -10,  0,  8, 15, 22,  38],  dtype=float)\n",
        "fahrenheit_a = np.array([-40,  14, 32, 46, 59, 72, 100],  dtype=float)\n",
        "\n",
        "for i,c in zip(celsius_q, fahrenheit_a):\n",
        "  print(\"{} degrees Celsius is {} degrees Fahrenheit\".format(i, c))"
      ],
      "execution_count": 0,
      "outputs": [
        {
          "output_type": "stream",
          "text": [
            "-40.0 degrees Celsius is -40.0 degrees Fahrenheit\n",
            "-10.0 degrees Celsius is 14.0 degrees Fahrenheit\n",
            "0.0 degrees Celsius is 32.0 degrees Fahrenheit\n",
            "8.0 degrees Celsius is 46.0 degrees Fahrenheit\n",
            "15.0 degrees Celsius is 59.0 degrees Fahrenheit\n",
            "22.0 degrees Celsius is 72.0 degrees Fahrenheit\n",
            "38.0 degrees Celsius is 100.0 degrees Fahrenheit\n"
          ],
          "name": "stdout"
        }
      ]
    },
    {
      "cell_type": "markdown",
      "metadata": {
        "id": "gNzBo3z0Wg_n",
        "colab_type": "text"
      },
      "source": [
        "## Creating the Model\n",
        "\n",
        "The model will consist of a single layer, with a single neruon, utilizing a dense network structure.  "
      ]
    },
    {
      "cell_type": "code",
      "metadata": {
        "id": "lZVzDDb5WH3f",
        "colab_type": "code",
        "colab": {}
      },
      "source": [
        "l0 =  tf.keras.layers.Dense(units=1, input_shape=[1])"
      ],
      "execution_count": 0,
      "outputs": []
    },
    {
      "cell_type": "markdown",
      "metadata": {
        "id": "jQv8aasSZiBe",
        "colab_type": "text"
      },
      "source": [
        "## Assemble layers in the Model\n",
        "\n",
        "Once layer is  defined, they need to be assembled into a model. The Sequential model definition takes a list of layers as argument, specifying the calculation order from the input to the output."
      ]
    },
    {
      "cell_type": "code",
      "metadata": {
        "id": "IJIZmyR2ZhDr",
        "colab_type": "code",
        "colab": {}
      },
      "source": [
        "model = tf.keras.Sequential([l0])"
      ],
      "execution_count": 0,
      "outputs": []
    },
    {
      "cell_type": "markdown",
      "metadata": {
        "id": "RDSv3T4xaWAA",
        "colab_type": "text"
      },
      "source": [
        "## Compile the model, with loss and optimizer functions\n",
        "\n",
        "Before training, the model has to be compiled. When compiled for training, the model is given:\n",
        "\n",
        "- **Loss function** — A way of measuring how far off predictions are from the desired outcome. (The measured difference is called the \"loss\".)\n",
        "\n",
        "- **Optimizer function** — A way of adjusting internal values in order to reduce the loss."
      ]
    },
    {
      "cell_type": "code",
      "metadata": {
        "id": "MV1dccEUaJTz",
        "colab_type": "code",
        "colab": {}
      },
      "source": [
        "model.compile(loss='mean_squared_error',\n",
        "             optimizer=tf.keras.optimizers.Adam(0.1))"
      ],
      "execution_count": 0,
      "outputs": []
    },
    {
      "cell_type": "markdown",
      "metadata": {
        "id": "3Y46my1ma7cI",
        "colab_type": "text"
      },
      "source": [
        "## Train the Model"
      ]
    },
    {
      "cell_type": "code",
      "metadata": {
        "id": "DQVFc8zLagNV",
        "colab_type": "code",
        "outputId": "7d7d3e90-a636-4d2b-fb70-a61ba0d9572d",
        "colab": {
          "base_uri": "https://localhost:8080/",
          "height": 34
        }
      },
      "source": [
        "history = model.fit(celsius_q, fahrenheit_a,\n",
        "                   epochs=500,\n",
        "                   verbose=False)\n",
        "print(\"Finished training the model\")"
      ],
      "execution_count": 0,
      "outputs": [
        {
          "output_type": "stream",
          "text": [
            "Finished training the model\n"
          ],
          "name": "stdout"
        }
      ]
    },
    {
      "cell_type": "code",
      "metadata": {
        "id": "ymR9JkgFbN4i",
        "colab_type": "code",
        "outputId": "acc95689-3241-4db9-f7b5-157f11ee40c8",
        "colab": {
          "base_uri": "https://localhost:8080/",
          "height": 300
        }
      },
      "source": [
        "import matplotlib.pyplot as plt\n",
        "plt.xlabel('Epoch Number')\n",
        "plt.ylabel('Loss Magnitude')\n",
        "plt.plot(history.history['loss'])"
      ],
      "execution_count": 0,
      "outputs": [
        {
          "output_type": "execute_result",
          "data": {
            "text/plain": [
              "[<matplotlib.lines.Line2D at 0x7f056fc807f0>]"
            ]
          },
          "metadata": {
            "tags": []
          },
          "execution_count": 8
        },
        {
          "output_type": "display_data",
          "data": {
            "image/png": "[encoded data removed]",
            "text/plain": [
              "<Figure size 432x288 with 1 Axes>"
            ]
          },
          "metadata": {
            "tags": []
          }
        }
      ]
    },
    {
      "cell_type": "markdown",
      "metadata": {
        "id": "dG7320-kbp9b",
        "colab_type": "text"
      },
      "source": [
        "## Model Predictions and Sanity Check"
      ]
    },
    {
      "cell_type": "code",
      "metadata": {
        "id": "wOViRbGnbhGI",
        "colab_type": "code",
        "outputId": "d1439752-4168-4dcf-f3bc-9c15cc6233f9",
        "colab": {
          "base_uri": "https://localhost:8080/",
          "height": 34
        }
      },
      "source": [
        "prediction = model.predict([100.0])\n",
        "expected = 1.8*100+32\n",
        "\n",
        "print(\"The predicted value {} vs the expected value {}\".format(int(prediction[0][0]), expected))"
      ],
      "execution_count": 0,
      "outputs": [
        {
          "output_type": "stream",
          "text": [
            "The predicted value 211 vs the expected value 212.0\n"
          ],
          "name": "stdout"
        }
      ]
    },
    {
      "cell_type": "code",
      "metadata": {
        "id": "JxrGa7TubudH",
        "colab_type": "code",
        "outputId": "64d9c80f-3b90-4581-e8ea-fc4f86d62ee3",
        "colab": {
          "base_uri": "https://localhost:8080/",
          "height": 34
        }
      },
      "source": [
        "print(\"These are the layer variables: {}\".format(l0.get_weights()))"
      ],
      "execution_count": 0,
      "outputs": [
        {
          "output_type": "stream",
          "text": [
            "These are the layer variables: [array([[1.8271911]], dtype=float32), array([28.56987], dtype=float32)]\n"
          ],
          "name": "stdout"
        }
      ]
    }
  ]
}